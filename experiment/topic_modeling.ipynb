{
 "cells": [
  {
   "cell_type": "code",
   "execution_count": 8,
   "metadata": {
    "id": "zFDLGAYQsH8H",
    "pycharm": {
     "name": "#%%\n"
    }
   },
   "outputs": [
    {
     "name": "stderr",
     "output_type": "stream",
     "text": [
      "UsageError: Line magic function `%%capture` not found.\n"
     ]
    }
   ],
   "source": [
    "# NOT IN USE anymore (instead topic.py); from https://github.com/MaartenGr/BERTopic\n",
    "\n",
    "\n",
    "\n",
    "%%capture\n",
    "!pip install bertopic\n",
    "\n",
    "%%capture\n",
    "!pip install git+https://github.com/MaartenGr/BERTopic.git@master\n",
    "\n",
    "!pip install cudf-cu11 dask-cudf-cu11 --extra-index-url=https://pypi.nvidia.com\n",
    "!pip install cuml-cu11 --extra-index-url=https://pypi.nvidia.com\n",
    "!pip install cugraph-cu11 --extra-index-url=https://pypi.nvidia.com\n",
    "!pip install cupy-cuda11x -f https://pip.cupy.dev/aarch64\n",
    "\n",
    "!pip install safetensors\n",
    "!pip install datasets\n",
    "!pip install datashader\n",
    "!pip install adjustText"
   ]
  },
  {
   "cell_type": "code",
   "execution_count": 10,
   "metadata": {
    "id": "zaDuJ_A_1r4q",
    "pycharm": {
     "name": "#%%\n"
    }
   },
   "outputs": [],
   "source": [
    "# Surpess deprication\n",
    "from numba.core.errors import NumbaDeprecationWarning, NumbaPendingDeprecationWarning # conda install numba\n",
    "import warnings\n",
    "\n",
    "warnings.simplefilter('ignore', category=NumbaDeprecationWarning)\n",
    "warnings.simplefilter('ignore', category=NumbaPendingDeprecationWarning)\n",
    "\n",
    "\n",
    "# Imports\n",
    "from bertopic import BERTopic\n",
    "from sklearn.datasets import fetch_20newsgroups\n",
    "import torch\n",
    "from bertopic.representation import KeyBERTInspired\n",
    "import os\n",
    "import pandas as pd\n",
    "\n",
    "# Further imports\n",
    "import collections\n",
    "from tqdm import tqdm\n",
    "from sklearn.feature_extraction.text import CountVectorizer\n",
    "from bertopic import BERTopic\n",
    "from sentence_transformers import SentenceTransformer"
   ]
  },
  {
   "cell_type": "code",
   "execution_count": 2,
   "metadata": {
    "colab": {
     "base_uri": "https://localhost:8080/"
    },
    "id": "BfLCzTiQtf4Y",
    "outputId": "4eec0bfc-eda7-4a0b-cffd-8874df100f81",
    "pycharm": {
     "name": "#%%\n"
    }
   },
   "outputs": [
    {
     "ename": "NameError",
     "evalue": "name 'os' is not defined",
     "output_type": "error",
     "traceback": [
      "\u001b[1;31m---------------------------------------------------------------------------\u001b[0m",
      "\u001b[1;31mNameError\u001b[0m                                 Traceback (most recent call last)",
      "Cell \u001b[1;32mIn[2], line 3\u001b[0m\n\u001b[0;32m      1\u001b[0m \u001b[39m# Load embeddings & dataset & device\u001b[39;00m\n\u001b[1;32m----> 3\u001b[0m current \u001b[39m=\u001b[39m os\u001b[39m.\u001b[39mpath\u001b[39m.\u001b[39mdirname(os\u001b[39m.\u001b[39mpath\u001b[39m.\u001b[39mrealpath(\u001b[39m__file__\u001b[39m))\n\u001b[0;32m      4\u001b[0m parent \u001b[39m=\u001b[39m os\u001b[39m.\u001b[39mpath\u001b[39m.\u001b[39mdirname(current) \u001b[39m# ...\\FastAdaptiveSf\u001b[39;00m\n\u001b[0;32m      6\u001b[0m dataset_path \u001b[39m=\u001b[39m \u001b[39mstr\u001b[39m(parent) \u001b[39m+\u001b[39m \u001b[39m\"\u001b[39m\u001b[39m\\\u001b[39m\u001b[39mcleaned_medium_articles_v6.csv\u001b[39m\u001b[39m\"\u001b[39m\n",
      "\u001b[1;31mNameError\u001b[0m: name 'os' is not defined"
     ]
    }
   ],
   "source": [
    "# Load embeddings & dataset & device\n",
    "\n",
    "current = os.path.dirname(os.path.realpath(__file__))\n",
    "parent = os.path.dirname(current) # ...\\FastAdaptiveSf\n",
    "\n",
    "dataset_path = str(parent) + \"\\cleaned_medium_articles_v6.csv\"\n",
    "embeddings_path = str(parent) + \"\\corpus_embeddings_v2.pt\"\n",
    "\n",
    "device = torch.device(\"cuda\" if torch.cuda.is_available() else \"cpu\")\n",
    "print(\"device: \" + str(device))"
   ]
  },
  {
   "cell_type": "code",
   "execution_count": null,
   "metadata": {
    "colab": {
     "base_uri": "https://localhost:8080/"
    },
    "id": "IdujUUzRr-Wf",
    "outputId": "330d9930-7b5c-4828-ff87-7d22ab51f447",
    "pycharm": {
     "name": "#%%\n"
    }
   },
   "outputs": [
    {
     "name": "stdout",
     "output_type": "stream",
     "text": [
      "Topic Modeling with BERTopic\n",
      "/content/drive/MyDrive/Masterprojekt/cleaned_medium_articles_v6.csv\n"
     ]
    }
   ],
   "source": [
    "## (standard_modeling) Topic Modeling with BERTopic: https://colab.research.google.com/drive/1FieRA9fLdkQEGDIMYl0I3MCjSUKVF8C-?usp=sharing\n",
    "print(\"Topic Modeling with BERTopic\")\n",
    "\n",
    "\n",
    "# Train model & load data\n",
    "\n",
    "# Clean_sentence extract that column\n",
    "print(dataset_path)\n",
    "df = pd.read_csv(dataset_path)\n",
    "docs = df['Clean_sentence']\n",
    "print(docs.head)\n",
    "\n",
    "corpus_embeddings = torch.load(embeddings_path, map_location=device) # torch.device(device)\n",
    "print(corpus_embeddings)\n",
    "\n",
    "topic_model = BERTopic(language=\"english\", calculate_probabilities=True, verbose=True) # topic_model = BERTopic(embedding_model=\"xlm-r-bert-base-nli-stsb-mean-tokens\")\n",
    "topics, probs = topic_model.fit_transform(docs, corpus_embeddings)\n",
    "\n",
    "\n",
    "\n",
    "# Fine-tune Topic Representations\n",
    "\n",
    "\n",
    "# Reduce topics\n",
    "\n",
    "new_topics, new_probs = topic_model.reduce_topics(docs, topics, probs, nr_topics=30) # topic_model.reduce_topics(docs, nr_topics=60)\n",
    "# print(topic_model.topics_) # Access the newly updated topics with\n",
    "\n",
    "\n",
    "# Show Results\n",
    "\n",
    "topic_model.get_topic_info()\n",
    "topic_model.get_topic(0) # Select the most frequent topic\n",
    "\n",
    "topic_model.topics_[:10] # access the predicted topics for the first 10 documents\n",
    "\n",
    "\n",
    "# Visualizations\n",
    "\n",
    "topic_model.visualize_topics() # Visualize Topics\n",
    "\n",
    "topic_model.visualize_distribution(probs[200], min_probability=0.015) # Visualize Topic Probabilities\n",
    "\n",
    "topic_model.visualize_hierarchy(top_n_topics=50) # Topic Hierarchy\n",
    "\n",
    "topic_model.visualize_barchart(top_n_topics=5) # Visualize Terms\n",
    "\n",
    "topic_model.visualize_heatmap(n_clusters=20, width=1000, height=1000) # Visualize Topic Similarity\n",
    "\n",
    "\n",
    "# Save model\n",
    "\n",
    "topic_model.save(path + \"standard_topic_model\")\n",
    "topic_model.save(\"standard_topic_model\")\n"
   ]
  },
  {
   "cell_type": "code",
   "execution_count": 7,
   "metadata": {
    "colab": {
     "base_uri": "https://localhost:8080/",
     "height": 380
    },
    "id": "tmbYxLL0s_kL",
    "outputId": "18cee215-3485-4892-c6d1-23024b9d96ed",
    "pycharm": {
     "name": "#%%\n"
    }
   },
   "outputs": [
    {
     "ename": "ModuleNotFoundError",
     "evalue": "ignored",
     "output_type": "error",
     "traceback": [
      "\u001b[0;31m---------------------------------------------------------------------------\u001b[0m",
      "\u001b[0;31mModuleNotFoundError\u001b[0m                       Traceback (most recent call last)",
      "\u001b[0;32m<ipython-input-7-d8da42ffae61>\u001b[0m in \u001b[0;36m<cell line: 5>\u001b[0;34m()\u001b[0m\n\u001b[1;32m      3\u001b[0m \u001b[0;32mfrom\u001b[0m \u001b[0mtqdm\u001b[0m \u001b[0;32mimport\u001b[0m \u001b[0mtqdm\u001b[0m\u001b[0;34m\u001b[0m\u001b[0;34m\u001b[0m\u001b[0m\n\u001b[1;32m      4\u001b[0m \u001b[0;32mfrom\u001b[0m \u001b[0msklearn\u001b[0m\u001b[0;34m.\u001b[0m\u001b[0mfeature_extraction\u001b[0m\u001b[0;34m.\u001b[0m\u001b[0mtext\u001b[0m \u001b[0;32mimport\u001b[0m \u001b[0mCountVectorizer\u001b[0m\u001b[0;34m\u001b[0m\u001b[0;34m\u001b[0m\u001b[0m\n\u001b[0;32m----> 5\u001b[0;31m \u001b[0;32mfrom\u001b[0m \u001b[0mcuml\u001b[0m\u001b[0;34m.\u001b[0m\u001b[0mmanifold\u001b[0m \u001b[0;32mimport\u001b[0m \u001b[0mUMAP\u001b[0m \u001b[0;31m# DOES NOT WORK ON WINDOWS\u001b[0m\u001b[0;34m\u001b[0m\u001b[0;34m\u001b[0m\u001b[0m\n\u001b[0m\u001b[1;32m      6\u001b[0m \u001b[0;32mfrom\u001b[0m \u001b[0mcuml\u001b[0m\u001b[0;34m.\u001b[0m\u001b[0mcluster\u001b[0m \u001b[0;32mimport\u001b[0m \u001b[0mHDBSCAN\u001b[0m \u001b[0;31m# DOES NOT WORK ON WINDOWS\u001b[0m\u001b[0;34m\u001b[0m\u001b[0;34m\u001b[0m\u001b[0m\n\u001b[1;32m      7\u001b[0m \u001b[0;32mfrom\u001b[0m \u001b[0mbertopic\u001b[0m \u001b[0;32mimport\u001b[0m \u001b[0mBERTopic\u001b[0m\u001b[0;34m\u001b[0m\u001b[0;34m\u001b[0m\u001b[0m\n",
      "\u001b[0;31mModuleNotFoundError\u001b[0m: No module named 'cuml'",
      "",
      "\u001b[0;31m---------------------------------------------------------------------------\u001b[0;32m\nNOTE: If your import is failing due to a missing package, you can\nmanually install dependencies using either !pip or !apt.\n\nTo view examples of installing some common dependencies, click the\n\"Open Examples\" button below.\n\u001b[0;31m---------------------------------------------------------------------------\u001b[0m\n"
     ]
    }
   ],
   "source": [
    "## (large_data_modeling) Topic Modeling on Large Data: https://colab.research.google.com/drive/1W7aEdDPxC29jP99GGZphUlqjMFFVKtBC?usp=sharing\n",
    "print(\"Topic Modeling on Large Data\")\n",
    "\n",
    "\n",
    "# Train model & load data\n",
    "\n",
    "# Extract 1 millions records\n",
    "lang = 'en'\n",
    "#data = load_dataset(f\"Cohere/wikipedia-22-12\", lang, split='train', streaming=True)\n",
    "docs = [doc[\"text\"] for doc in data if doc[\"id\"] != \"1_000_000\"]; len(docs)\n",
    "docs = [] # TODO\n",
    "corpus_embeddings = torch.load(embeddings_path, map_location=device) # torch.device(device)\n",
    "\n",
    "# Extract vocab to be used in BERTopic\n",
    "vocab = collections.Counter()\n",
    "tokenizer = CountVectorizer().build_tokenizer()\n",
    "for doc in tqdm(docs):\n",
    "    vocab.update(tokenizer(doc))\n",
    "    vocab = [word for word, frequency in vocab.items() if frequency >= 15]; len(vocab)\n",
    "\n",
    "# Prepare sub-models\n",
    "embedding_model = SentenceTransformer('all-MiniLM-L6-v2')\n",
    "umap_model = UMAP(n_components=5, n_neighbors=50, random_state=42, metric=\"cosine\", verbose=True)\n",
    "hdbscan_model = HDBSCAN(min_samples=20, gen_min_span_tree=True, prediction_data=False, min_cluster_size=20, verbose=True)\n",
    "vectorizer_model = CountVectorizer(vocabulary=vocab, stop_words=\"english\")\n",
    "\n",
    "# Fit BERTopic without actually performing any clustering\n",
    "topic_model= BERTopic(\n",
    "        embedding_model=embedding_model,\n",
    "        umap_model=umap_model,\n",
    "        hdbscan_model=hdbscan_model,\n",
    "        vectorizer_model=vectorizer_model,\n",
    "        verbose=True\n",
    ").fit(docs, embeddings=corpus_embeddings)\n",
    "\n",
    "\n",
    "# Save model\n",
    "\n",
    "topic_model.save(path + \"large_topic_model\")\n",
    "topic_model.save(\"large_topic_model\")\n",
    "# my_model = BERTopic.load(\"standard_topic_model\") # load again\n"
   ]
  }
 ],
 "metadata": {
  "colab": {
   "provenance": []
  },
  "kernelspec": {
   "display_name": "Python 3",
   "name": "python3"
  },
  "language_info": {
   "codemirror_mode": {
    "name": "ipython",
    "version": 3
   },
   "file_extension": ".py",
   "mimetype": "text/x-python",
   "name": "python",
   "nbconvert_exporter": "python",
   "pygments_lexer": "ipython3",
   "version": "3.8.10"
  }
 },
 "nbformat": 4,
 "nbformat_minor": 0
}
